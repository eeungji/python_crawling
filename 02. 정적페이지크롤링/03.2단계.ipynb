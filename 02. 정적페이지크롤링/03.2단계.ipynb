{
 "cells": [
  {
   "cell_type": "code",
   "execution_count": 9,
   "metadata": {},
   "outputs": [
    {
     "name": "stdout",
     "output_type": "stream",
     "text": [
      "1419000\n",
      "549000\n",
      "529000\n",
      "624000\n",
      "1135000\n",
      "398000\n",
      "899000\n",
      "929000\n",
      "1008000\n",
      "1149000\n"
     ]
    }
   ],
   "source": [
    "import requests\n",
    "from bs4 import BeautifulSoup\n",
    "\n",
    "response = requests.get(\"https://startcoding.pythonanywhere.com/basic\")\n",
    "html = response.text\n",
    "soup = BeautifulSoup(html, 'html.parser')\n",
    "items = soup.select(\".product\")\n",
    "for item in items:\n",
    "  category = item.select_one(\".product-category\").text\n",
    "  name = item.select_one(\".product-name\").text\n",
    "  link = item.select_one(\".product-name > a\").attrs['href']\n",
    "  price = item.select_one(\".product-price\").text.split('원')[0].replace(',', '')\n",
    "  print(price)"
   ]
  }
 ],
 "metadata": {
  "kernelspec": {
   "display_name": "Python 3",
   "language": "python",
   "name": "python3"
  },
  "language_info": {
   "codemirror_mode": {
    "name": "ipython",
    "version": 3
   },
   "file_extension": ".py",
   "mimetype": "text/x-python",
   "name": "python",
   "nbconvert_exporter": "python",
   "pygments_lexer": "ipython3",
   "version": "3.12.6"
  }
 },
 "nbformat": 4,
 "nbformat_minor": 2
}
